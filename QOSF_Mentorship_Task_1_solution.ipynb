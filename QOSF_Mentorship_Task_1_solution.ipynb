{
 "cells": [
  {
   "cell_type": "code",
   "execution_count": 6,
   "id": "40768581-9d1a-4999-bc99-b6a82963e374",
   "metadata": {},
   "outputs": [
    {
     "name": "stderr",
     "output_type": "stream",
     "text": [
      "ibmqfactory.load_account:WARNING:2023-02-24 18:41:48,426: Credentials are already in use. The existing account in the session will be replaced.\n"
     ]
    }
   ],
   "source": [
    "import numpy as np\n",
    "\n",
    "# Importing standard Qiskit libraries\n",
    "from qiskit import QuantumCircuit, transpile, Aer, IBMQ, execute\n",
    "from qiskit.tools.jupyter import *\n",
    "from qiskit.visualization import *\n",
    "from ibm_quantum_widgets import *\n",
    "from qiskit.providers.aer import QasmSimulator\n",
    "\n",
    "# Loading your IBM Quantum account(s)\n",
    "provider = IBMQ.load_account()"
   ]
  },
  {
   "cell_type": "code",
   "execution_count": 7,
   "id": "6723bb37-3c6c-4b44-83cd-6a78714e2ea2",
   "metadata": {},
   "outputs": [],
   "source": [
    "def find_the_largest_number(a, b):\n",
    "    # Set up a quantum circuit with 2 integer qubits and 1 control qubit\n",
    "    qc = QuantumCircuit(3, 2)\n",
    "\n",
    "    # Encode the two integers as binary numbers on separate sets of qubits\n",
    "    qc.x(0) if a == 1 else None\n",
    "    qc.x(1) if b == 1 else None\n",
    "    qc.barrier()\n",
    "\n",
    "    # Apply a Hadamard gate to the control qubit to put it into a superposition of |0⟩ and |1⟩\n",
    "    qc.h(2)\n",
    "\n",
    "    # Apply a controlled-Z gate to encode the integers in the phase of the state\n",
    "    qc.cz(2, 0)\n",
    "\n",
    "    # Apply the inverse Quantum Fourier Transform (QFT) to the b qubits\n",
    "    qc.barrier()\n",
    "    qc.h(1)\n",
    "    qc.cp(np.pi/2, 1, 0)\n",
    "    qc.h(0)\n",
    "\n",
    "    # Measure the b qubits and apply classical post-processing to obtain the phase\n",
    "    qc.measure([0,1], [0,1])\n",
    "    qc.draw()\n",
    "\n",
    "    # Execute the circuit on a simulator\n",
    "    backend = Aer.get_backend('qasm_simulator')\n",
    "    job = execute(qc, backend, shots=1024)\n",
    "    result = job.result()\n",
    "\n",
    "    #Plot Counts Histogram\n",
    "    #plot_histogram(result.get_counts(qc))\n",
    "    # Get the measurement results\n",
    "    counts = result.get_counts(qc)\n",
    "    p01 = counts.get('01', 0) / 1024  # probability of measuring 01\n",
    "    p10 = counts.get('10', 0) / 1024  # probability of measuring 10\n",
    "\n",
    "    # Determine which integer is larger based on the measurement results\n",
    "    if p01 > p10:\n",
    "        return b\n",
    "    else:\n",
    "        return a"
   ]
  },
  {
   "cell_type": "code",
   "execution_count": 9,
   "id": "5fdd28dc-f5d9-479d-bccf-f758ebcf4c9d",
   "metadata": {},
   "outputs": [
    {
     "name": "stdout",
     "output_type": "stream",
     "text": [
      "The largest number is 5\n"
     ]
    }
   ],
   "source": [
    "largest = find_the_largest_number(3, 5)\n",
    "print(f\"The largest number is {largest}\")"
   ]
  },
  {
   "cell_type": "code",
   "execution_count": null,
   "id": "47256718-f0b6-47f3-afb3-616889329a9c",
   "metadata": {},
   "outputs": [],
   "source": []
  }
 ],
 "metadata": {
  "kernelspec": {
   "display_name": "Python 3 (ipykernel)",
   "language": "python",
   "name": "python3"
  },
  "language_info": {
   "codemirror_mode": {
    "name": "ipython",
    "version": 3
   },
   "file_extension": ".py",
   "mimetype": "text/x-python",
   "name": "python",
   "nbconvert_exporter": "python",
   "pygments_lexer": "ipython3",
   "version": "3.8.15"
  },
  "widgets": {
   "application/vnd.jupyter.widget-state+json": {
    "state": {
     "0346d17d4b374c5eaaf628dd800d1c1b": {
      "model_module": "@jupyter-widgets/base",
      "model_module_version": "1.2.0",
      "model_name": "LayoutModel",
      "state": {
       "grid_area": "right",
       "padding": "0px 0px 0px 0px",
       "width": "70px"
      }
     },
     "0413ac2d6168459298710107fa6ed7e5": {
      "model_module": "@jupyter-widgets/controls",
      "model_module_version": "1.5.0",
      "model_name": "DescriptionStyleModel",
      "state": {
       "description_width": ""
      }
     },
     "124e6959321e4f5095aa119cfd093d5d": {
      "model_module": "@jupyter-widgets/controls",
      "model_module_version": "1.5.0",
      "model_name": "GridBoxModel",
      "state": {
       "children": [
        "IPY_MODEL_309c80ed6186477ca744240791ceb0b1"
       ],
       "layout": "IPY_MODEL_69e8618bf7a049ce9930959421a49084"
      }
     },
     "140c25ba6dd44867b9723971037a99a0": {
      "model_module": "@jupyter-widgets/controls",
      "model_module_version": "1.5.0",
      "model_name": "HTMLModel",
      "state": {
       "layout": "IPY_MODEL_e2cc1b0efafb4d2aa4ed005f2e7247e1",
       "style": "IPY_MODEL_d88fa02d8b354fe9b850901449c56a67",
       "value": "<h5>Backend</h5>"
      }
     },
     "1505fe531cc94801a3e5d98ddc876cc1": {
      "model_module": "@jupyter-widgets/base",
      "model_module_version": "1.2.0",
      "model_name": "LayoutModel",
      "state": {
       "width": "190px"
      }
     },
     "15430335b2b74e3fbb9bb0732b7710cd": {
      "model_module": "@jupyter-widgets/controls",
      "model_module_version": "1.5.0",
      "model_name": "HBoxModel",
      "state": {
       "children": [
        "IPY_MODEL_2340cc4136fc40418440a4a3a6499947",
        "IPY_MODEL_140c25ba6dd44867b9723971037a99a0",
        "IPY_MODEL_c7e2506f31594652abb356c091c87230",
        "IPY_MODEL_89536c6ef643402eb1118c645872ba78",
        "IPY_MODEL_463211bfd6534768bbb62015cf15c055"
       ],
       "layout": "IPY_MODEL_c55b5f4e7aa1400087a905bbc0c1adfb"
      }
     },
     "2340cc4136fc40418440a4a3a6499947": {
      "model_module": "@jupyter-widgets/controls",
      "model_module_version": "1.5.0",
      "model_name": "HTMLModel",
      "state": {
       "layout": "IPY_MODEL_1505fe531cc94801a3e5d98ddc876cc1",
       "style": "IPY_MODEL_e0d55d84508c4757865a97ffa73988b7",
       "value": "<h5>Job ID</h5>"
      }
     },
     "309c80ed6186477ca744240791ceb0b1": {
      "model_module": "@jupyter-widgets/controls",
      "model_module_version": "1.5.0",
      "model_name": "ButtonModel",
      "state": {
       "button_style": "primary",
       "description": "Clear",
       "layout": "IPY_MODEL_0346d17d4b374c5eaaf628dd800d1c1b",
       "style": "IPY_MODEL_df0075793baa44a0aec2755e7f5aadb2"
      }
     },
     "3761dcca7c324a44b49c3ae19e85a9ac": {
      "model_module": "@jupyter-widgets/controls",
      "model_module_version": "1.5.0",
      "model_name": "DescriptionStyleModel",
      "state": {
       "description_width": ""
      }
     },
     "38bb0164b2434571a07d4551a0d5b2ff": {
      "model_module": "@jupyter-widgets/controls",
      "model_module_version": "1.5.0",
      "model_name": "HTMLModel",
      "state": {
       "layout": "IPY_MODEL_ca368b17a3264ceb93447217d9a74b68",
       "style": "IPY_MODEL_3761dcca7c324a44b49c3ae19e85a9ac",
       "value": "<p style='font-family: IBM Plex Sans, Arial, Helvetica, sans-serif; font-size: 20px; font-weight: medium;'>Circuit Properties</p>"
      }
     },
     "463211bfd6534768bbb62015cf15c055": {
      "model_module": "@jupyter-widgets/controls",
      "model_module_version": "1.5.0",
      "model_name": "HTMLModel",
      "state": {
       "layout": "IPY_MODEL_4a748f4c1d254ed4bc58eef39efe8bfa",
       "style": "IPY_MODEL_69931025bce2442cac98859ff3b5d84a",
       "value": "<h5>Message</h5>"
      }
     },
     "4a33406bdeed44dcb23cab1829f38ebc": {
      "model_module": "@jupyter-widgets/controls",
      "model_module_version": "1.5.0",
      "model_name": "DescriptionStyleModel",
      "state": {
       "description_width": ""
      }
     },
     "4a748f4c1d254ed4bc58eef39efe8bfa": {
      "model_module": "@jupyter-widgets/base",
      "model_module_version": "1.2.0",
      "model_name": "LayoutModel",
      "state": {}
     },
     "69931025bce2442cac98859ff3b5d84a": {
      "model_module": "@jupyter-widgets/controls",
      "model_module_version": "1.5.0",
      "model_name": "DescriptionStyleModel",
      "state": {
       "description_width": ""
      }
     },
     "69e8618bf7a049ce9930959421a49084": {
      "model_module": "@jupyter-widgets/base",
      "model_module_version": "1.2.0",
      "model_name": "LayoutModel",
      "state": {
       "grid_template_areas": "\n                                       \". . . . right \"\n                                        ",
       "grid_template_columns": "20% 20% 20% 20% 20%",
       "width": "100%"
      }
     },
     "83dd5d7133174deeb68df33d3792775a": {
      "model_module": "@jupyter-widgets/base",
      "model_module_version": "1.2.0",
      "model_name": "LayoutModel",
      "state": {
       "width": "95px"
      }
     },
     "89536c6ef643402eb1118c645872ba78": {
      "model_module": "@jupyter-widgets/controls",
      "model_module_version": "1.5.0",
      "model_name": "HTMLModel",
      "state": {
       "layout": "IPY_MODEL_91feeaf968a64f0e8d6a9945412711b3",
       "style": "IPY_MODEL_0413ac2d6168459298710107fa6ed7e5",
       "value": "<h5>Queue</h5>"
      }
     },
     "91feeaf968a64f0e8d6a9945412711b3": {
      "model_module": "@jupyter-widgets/base",
      "model_module_version": "1.2.0",
      "model_name": "LayoutModel",
      "state": {
       "width": "70px"
      }
     },
     "c55b5f4e7aa1400087a905bbc0c1adfb": {
      "model_module": "@jupyter-widgets/base",
      "model_module_version": "1.2.0",
      "model_name": "LayoutModel",
      "state": {
       "margin": "0px 0px 0px 37px",
       "width": "600px"
      }
     },
     "c7e2506f31594652abb356c091c87230": {
      "model_module": "@jupyter-widgets/controls",
      "model_module_version": "1.5.0",
      "model_name": "HTMLModel",
      "state": {
       "layout": "IPY_MODEL_83dd5d7133174deeb68df33d3792775a",
       "style": "IPY_MODEL_4a33406bdeed44dcb23cab1829f38ebc",
       "value": "<h5>Status</h5>"
      }
     },
     "ca368b17a3264ceb93447217d9a74b68": {
      "model_module": "@jupyter-widgets/base",
      "model_module_version": "1.2.0",
      "model_name": "LayoutModel",
      "state": {
       "margin": "0px 0px 10px 0px"
      }
     },
     "d88fa02d8b354fe9b850901449c56a67": {
      "model_module": "@jupyter-widgets/controls",
      "model_module_version": "1.5.0",
      "model_name": "DescriptionStyleModel",
      "state": {
       "description_width": ""
      }
     },
     "df0075793baa44a0aec2755e7f5aadb2": {
      "model_module": "@jupyter-widgets/controls",
      "model_module_version": "1.5.0",
      "model_name": "ButtonStyleModel",
      "state": {}
     },
     "e0d55d84508c4757865a97ffa73988b7": {
      "model_module": "@jupyter-widgets/controls",
      "model_module_version": "1.5.0",
      "model_name": "DescriptionStyleModel",
      "state": {
       "description_width": ""
      }
     },
     "e2cc1b0efafb4d2aa4ed005f2e7247e1": {
      "model_module": "@jupyter-widgets/base",
      "model_module_version": "1.2.0",
      "model_name": "LayoutModel",
      "state": {
       "width": "145px"
      }
     }
    },
    "version_major": 2,
    "version_minor": 0
   }
  }
 },
 "nbformat": 4,
 "nbformat_minor": 5
}
